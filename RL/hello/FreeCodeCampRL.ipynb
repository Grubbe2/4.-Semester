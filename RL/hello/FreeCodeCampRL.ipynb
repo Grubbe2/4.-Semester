{
 "cells": [
  {
   "cell_type": "code",
   "execution_count": null,
   "metadata": {},
   "outputs": [],
   "source": [
    "import os\n",
    "import numpy as np\n",
    "import tensorflow as tf"
   ]
  },
  {
   "cell_type": "code",
   "execution_count": null,
   "metadata": {},
   "outputs": [],
   "source": [
    "class DeepQNetwork(object):\n",
    "    def __init__(self, lr, n_actions, name, fcl_dims=256,\n",
    "                 input_dims=(210, 160, 4), chkpt_dir='tmp/dqn'):\n",
    "        self.lr = lr\n",
    "        self.n_actions = n_actions\n",
    "        self.name = name\n",
    "        self.fcl_dims = fcl_dims\n",
    "        self.input_dims = input_dims\n",
    "        self.sess = tf.Session()\n",
    "        self.build_network()\n",
    "        self.sess.run(tf.global_variables_initializer())\n",
    "        self.saver = tf.train.Saver()\n",
    "        self.checkpoint_file = os.path.join(chkpt_dir, 'deepqnet.ckpt')\n",
    "        self.params = tf.get_collection(tf.GraphKeys.TRAINABLE_VARIABLES,\n",
    "                                        scope=self.name)\n",
    "        \n",
    "    def build_network(self):\n",
    "        with tf.variable_scope(self.name):\n",
    "            self.input = tf.placeholder(tf.float32,\n",
    "                                        shape=[None, *self.input_dims],\n",
    "                                        name='inputs')\n",
    "            self.actions = tf.placeholder(tf.float32,\n",
    "                                          shape=[None, self.n_actions],\n",
    "                                          name='action_mask')\n",
    "            self.q_target = tf.placeholder(tf.float32,\n",
    "                                            shape=[None, self.n_actions],\n",
    "                                            name='q_value')\n",
    "            "
   ]
  },
  {
   "cell_type": "code",
   "execution_count": null,
   "metadata": {},
   "outputs": [],
   "source": []
  }
 ],
 "metadata": {
  "language_info": {
   "name": "python"
  }
 },
 "nbformat": 4,
 "nbformat_minor": 2
}
